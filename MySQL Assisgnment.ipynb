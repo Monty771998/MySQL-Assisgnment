{
 "cells": [
  {
   "cell_type": "markdown",
   "id": "5239345e-3c34-4c7f-87ce-fa6389451914",
   "metadata": {},
   "source": [
    "Q1. What is a database? Differentiate between SQL and NoSQL databases."
   ]
  },
  {
   "cell_type": "markdown",
   "id": "4dafe0f5-a391-494b-a0c0-d9c5d69e89e8",
   "metadata": {},
   "source": [
    "A database is a collection of data that is organized so that it can be easily accessed, managed, and updated.\n",
    "Databases are used to store all sorts of data, from customer records to product inventory to financial transactions.\n",
    "\n",
    "SQL - In SQL data are stored in relational mode means stored in tables like Excel Sheet.\n",
    "NoSQL - In NoSQL data are stored in different mode like key-value pair,document stores and graph database.It is often used\n",
    "         for storing large amounts of unstructured data, such as social media data or sensor data."
   ]
  },
  {
   "cell_type": "code",
   "execution_count": null,
   "id": "88d2539b-81e5-4bbe-9b01-35df968e69ef",
   "metadata": {},
   "outputs": [],
   "source": []
  },
  {
   "cell_type": "markdown",
   "id": "fa4f491b-7179-48fc-a05f-3f320df06222",
   "metadata": {},
   "source": [
    "Q2. What is DDL? Explain why CREATE, DROP, ALTER, and TRUNCATE are used with an example."
   ]
  },
  {
   "cell_type": "code",
   "execution_count": null,
   "id": "f33f2d47-b6a9-49b3-bd27-238982e20242",
   "metadata": {},
   "outputs": [],
   "source": [
    " DDL stands for Data Definition Language. It is a set of commands that are used to define the structure of a database.\n",
    " DDL commands are used to create, alter, and drop tables, views, and other database objects.\n",
    "\n",
    " \n",
    " CREATE : It is used to create new Tables.\n",
    "eg CREATE TABLE table1(name VARCHAR,Age INT,email_id VARCHAR(50));\n",
    "\n",
    " DROP : It is used to delete the Tables. \n",
    "eg DROP  TABLE table1;\n",
    "\n",
    " ALTER : It is used to do changes in Tables like adding new column.\n",
    "eg ALTER  TABLE table1 ADD COLUMN address VARCHAR;\n",
    "\n",
    " TRUNCATE : It is used to delete all the data in Tables but it dont delete the Table itself.\n",
    "eg  TRUNCATE TABLE table1 ;"
   ]
  },
  {
   "cell_type": "code",
   "execution_count": null,
   "id": "5cb4f1e6-3033-4b59-8d56-4177cc607324",
   "metadata": {},
   "outputs": [],
   "source": []
  },
  {
   "cell_type": "markdown",
   "id": "b8a4504b-9478-43fa-994f-a3d2562eb493",
   "metadata": {},
   "source": [
    "Q3. What is DML? Explain INSERT, UPDATE, and DELETE with an example."
   ]
  },
  {
   "cell_type": "code",
   "execution_count": null,
   "id": "a513aa54-a49f-48b9-86dd-ee9082a324bb",
   "metadata": {},
   "outputs": [],
   "source": [
    "DML stands for Data Manipulation Language. It is a set of commands that are used to manipulate data in\n",
    "a database. DML commands are used to insert, update, and delete data from tables\n",
    "\n",
    "\n",
    "INSERT : It is used to insert new data into a table.\n",
    "eg INSERT INTO table1 (name,age,email_id,address) VALUES('Monu' ,24 ,'smonu0659@gmail.com' , 'new delhi');\n",
    "\n",
    "UPDATE : It is used to update existing data in a table.\n",
    "eg UPDATE table1 SET name = 'sonu' WHERE id = 1;\n",
    "\n",
    "DELETE : It is used to delete  data from table.\n",
    "eg DELETE  FROM table1 WHERE id = 1\n",
    "\n"
   ]
  },
  {
   "cell_type": "code",
   "execution_count": null,
   "id": "51ae4f4e-6f9f-4658-94b0-37a440792668",
   "metadata": {},
   "outputs": [],
   "source": []
  },
  {
   "cell_type": "markdown",
   "id": "d081f1f5-f766-4ddd-836a-a2b8addc2d98",
   "metadata": {},
   "source": [
    "Q4. What is DQL? Explain SELECT with an example."
   ]
  },
  {
   "cell_type": "code",
   "execution_count": null,
   "id": "bf02a177-1257-4872-8e52-196c80f166a1",
   "metadata": {},
   "outputs": [],
   "source": [
    " DQL stands for Data Query Language. It is a set of commands that are used to query data from a database. \n",
    " DQL commands are used to select, filter, and sort data from tables.\n",
    "\n",
    " SELECT : It is used to select data from a table. \n",
    "    eg SELECT name, email\n",
    "       FROM table1\n",
    "       WHERE age > 30;           \n"
   ]
  },
  {
   "cell_type": "code",
   "execution_count": null,
   "id": "e309d919-2c20-4f33-b3ae-80b2dc53f324",
   "metadata": {},
   "outputs": [],
   "source": []
  },
  {
   "cell_type": "markdown",
   "id": "4f728cad-e0a7-49d7-b9d1-be402b178d13",
   "metadata": {},
   "source": [
    "Q5. Explain Primary Key and Foreign Key."
   ]
  },
  {
   "cell_type": "code",
   "execution_count": null,
   "id": "64a64cce-60cb-48f0-b65d-4bf861a1a8fd",
   "metadata": {},
   "outputs": [],
   "source": [
    " A primary key is a column (or a combination of columns) in a table that uniquely identifies each row in the table.\n",
    " A foreign key is a column (or a combination of columns) in a table that refers to the primary key of another table."
   ]
  },
  {
   "cell_type": "code",
   "execution_count": null,
   "id": "691764e3-539c-46cc-a5df-3482f08ee67c",
   "metadata": {},
   "outputs": [],
   "source": []
  },
  {
   "cell_type": "markdown",
   "id": "72fbd9dd-8ce6-46c4-9f3f-26927707deeb",
   "metadata": {},
   "source": [
    "Q6. Write a python code to connect MySQL to python. Explain the cursor() and execute() method."
   ]
  },
  {
   "cell_type": "code",
   "execution_count": 2,
   "id": "b7ebeb9d-06fa-46fe-9169-8e8cfde9f347",
   "metadata": {},
   "outputs": [
    {
     "name": "stdout",
     "output_type": "stream",
     "text": [
      "Collecting mysql-connector\n",
      "  Downloading mysql-connector-2.2.9.tar.gz (11.9 MB)\n",
      "\u001b[2K     \u001b[90m━━━━━━━━━━━━━━━━━━━━━━━━━━━━━━━━━━━━━━━━\u001b[0m \u001b[32m11.9/11.9 MB\u001b[0m \u001b[31m76.6 MB/s\u001b[0m eta \u001b[36m0:00:00\u001b[0m00:01\u001b[0m00:01\u001b[0m\n",
      "\u001b[?25h  Preparing metadata (setup.py) ... \u001b[?25ldone\n",
      "\u001b[?25hBuilding wheels for collected packages: mysql-connector\n",
      "  Building wheel for mysql-connector (setup.py) ... \u001b[?25ldone\n",
      "\u001b[?25h  Created wheel for mysql-connector: filename=mysql_connector-2.2.9-cp310-cp310-linux_x86_64.whl size=247951 sha256=245bfcdb3cfe90f9787d1e83eac676ed3fb023626c3d458b08c7c37b83a7f922\n",
      "  Stored in directory: /home/jovyan/.cache/pip/wheels/3e/7f/a3/928a40d1ffd01dd16057f308042377afc505d56145375adf40\n",
      "Successfully built mysql-connector\n",
      "Installing collected packages: mysql-connector\n",
      "Successfully installed mysql-connector-2.2.9\n",
      "Note: you may need to restart the kernel to use updated packages.\n"
     ]
    }
   ],
   "source": [
    "pip install mysql-connector"
   ]
  },
  {
   "cell_type": "code",
   "execution_count": 4,
   "id": "22d044c8-c699-4d61-831d-9273b4c9ecbb",
   "metadata": {},
   "outputs": [],
   "source": [
    "import mysql.connector"
   ]
  },
  {
   "cell_type": "code",
   "execution_count": null,
   "id": "c92c64ef-f3d3-4a3c-a5ba-3cfa4a0baf3c",
   "metadata": {},
   "outputs": [],
   "source": [
    "mydb = mysql.connector.connect(\n",
    "    host= 'localhost',\n",
    "    user = 'abc' ,\n",
    "    password = 'password')\n",
    "\n",
    "mycursor = mydb.cursorsor()\n",
    "mycursor.execute('SHOW DATABASES')\n",
    "                 \n",
    "for x in mycursor:\n",
    "    print(x)"
   ]
  },
  {
   "cell_type": "markdown",
   "id": "8451cdce-abff-49e6-9c86-5c06cb1dd01d",
   "metadata": {},
   "source": [
    "Cursor()method is called on a database connection object and returns a cursor object.The cursor() method\n",
    "establishes a communication channel between your Python program and the MySQL server, enabling you to send\n",
    "queries and receive results.\n",
    "\n",
    "The execute() method is used to execute an SQL query or command. It is called on the cursor object and \n",
    "takes the SQL statement as a parameter.\n",
    "mycursor.execute(\"SELECT * FROM table_name\")"
   ]
  },
  {
   "cell_type": "code",
   "execution_count": null,
   "id": "719aeff3-6fbe-4244-98d4-4acde0111938",
   "metadata": {},
   "outputs": [],
   "source": []
  },
  {
   "cell_type": "markdown",
   "id": "9286ff1e-e39d-43db-b3df-d84f59415826",
   "metadata": {},
   "source": [
    "Q7. Give the order of execution of SQL clauses in an SQL query."
   ]
  },
  {
   "cell_type": "code",
   "execution_count": null,
   "id": "aea6a7b7-1564-42b0-83c5-b3560f85dc08",
   "metadata": {},
   "outputs": [],
   "source": [
    "1.FROM/JOIN\n",
    "2.WHERE\n",
    "3.GROUP BY\n",
    "4.HAVING\n",
    "5.SELECT\n",
    "6.ORDER BY\n",
    "7.LIMIT\n",
    "\n",
    "eg\n",
    "SELECT *\n",
    "FROM users\n",
    "WHERE age > 18\n",
    "GROUP BY gender\n",
    "HAVING COUNT(*) > 10\n",
    "ORDER BY name ASC\n",
    "LIMIT 10;\n"
   ]
  },
  {
   "cell_type": "code",
   "execution_count": null,
   "id": "50fa1e55-4027-4422-b39b-31b8eadbd13c",
   "metadata": {},
   "outputs": [],
   "source": []
  },
  {
   "cell_type": "code",
   "execution_count": null,
   "id": "003058f1-1fb5-4698-bfad-90ae67472997",
   "metadata": {},
   "outputs": [],
   "source": []
  },
  {
   "cell_type": "code",
   "execution_count": null,
   "id": "5d53d285-381f-45e4-89e6-91e6bed1b816",
   "metadata": {},
   "outputs": [],
   "source": []
  },
  {
   "cell_type": "code",
   "execution_count": null,
   "id": "bb4ecd4f-cb76-4d04-803b-a2ab82d5c356",
   "metadata": {},
   "outputs": [],
   "source": []
  },
  {
   "cell_type": "code",
   "execution_count": null,
   "id": "72342b83-76c2-4544-90b6-c851b6b2e71b",
   "metadata": {},
   "outputs": [],
   "source": []
  },
  {
   "cell_type": "code",
   "execution_count": null,
   "id": "764626bc-b1f7-49fa-b133-5236a16b0f89",
   "metadata": {},
   "outputs": [],
   "source": []
  },
  {
   "cell_type": "code",
   "execution_count": null,
   "id": "3a7a0158-f2dc-4211-aa6f-f1814231b094",
   "metadata": {},
   "outputs": [],
   "source": []
  }
 ],
 "metadata": {
  "kernelspec": {
   "display_name": "Python 3 (ipykernel)",
   "language": "python",
   "name": "python3"
  },
  "language_info": {
   "codemirror_mode": {
    "name": "ipython",
    "version": 3
   },
   "file_extension": ".py",
   "mimetype": "text/x-python",
   "name": "python",
   "nbconvert_exporter": "python",
   "pygments_lexer": "ipython3",
   "version": "3.10.8"
  }
 },
 "nbformat": 4,
 "nbformat_minor": 5
}
